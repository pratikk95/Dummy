{
 "cells": [
  {
   "cell_type": "code",
   "execution_count": 2,
   "id": "31d8c790",
   "metadata": {},
   "outputs": [],
   "source": [
    "key ={\"Name\", \"Grade\", \"Rank\"}\n",
    "value={\"Pratik\", \"A\", \"2\"}"
   ]
  },
  {
   "cell_type": "code",
   "execution_count": 3,
   "id": "b246b1df",
   "metadata": {},
   "outputs": [
    {
     "ename": "NameError",
     "evalue": "name 'fromkeys' is not defined",
     "output_type": "error",
     "traceback": [
      "\u001b[0;31m---------------------------------------------------------------------------\u001b[0m",
      "\u001b[0;31mNameError\u001b[0m                                 Traceback (most recent call last)",
      "\u001b[0;32m<ipython-input-3-f9edf5ef1bef>\u001b[0m in \u001b[0;36m<module>\u001b[0;34m\u001b[0m\n\u001b[0;32m----> 1\u001b[0;31m \u001b[0md\u001b[0m\u001b[0;34m=\u001b[0m \u001b[0mfromkeys\u001b[0m\u001b[0;34m(\u001b[0m\u001b[0mkey\u001b[0m\u001b[0;34m,\u001b[0m\u001b[0mvalue\u001b[0m\u001b[0;34m)\u001b[0m\u001b[0;34m\u001b[0m\u001b[0;34m\u001b[0m\u001b[0m\n\u001b[0m",
      "\u001b[0;31mNameError\u001b[0m: name 'fromkeys' is not defined"
     ]
    }
   ],
   "source": [
    "d= fromkeys(key,value)"
   ]
  },
  {
   "cell_type": "code",
   "execution_count": 4,
   "id": "09f56efc",
   "metadata": {},
   "outputs": [],
   "source": [
    "d1={\"key1\" : 223 , \"key2\" : [2,3,4]}\n"
   ]
  },
  {
   "cell_type": "code",
   "execution_count": 5,
   "id": "f93a56da",
   "metadata": {},
   "outputs": [],
   "source": [
    "d=d1.fromkeys(key,value)"
   ]
  },
  {
   "cell_type": "code",
   "execution_count": 6,
   "id": "eb5e82f7",
   "metadata": {},
   "outputs": [
    {
     "data": {
      "text/plain": [
       "{'Grade': {'2', 'A', 'Pratik'},\n",
       " 'Name': {'2', 'A', 'Pratik'},\n",
       " 'Rank': {'2', 'A', 'Pratik'}}"
      ]
     },
     "execution_count": 6,
     "metadata": {},
     "output_type": "execute_result"
    }
   ],
   "source": [
    "d"
   ]
  },
  {
   "cell_type": "code",
   "execution_count": 7,
   "id": "2b79ce70",
   "metadata": {},
   "outputs": [
    {
     "ename": "TypeError",
     "evalue": "unhashable type: 'list'",
     "output_type": "error",
     "traceback": [
      "\u001b[0;31m---------------------------------------------------------------------------\u001b[0m",
      "\u001b[0;31mTypeError\u001b[0m                                 Traceback (most recent call last)",
      "\u001b[0;32m<ipython-input-7-eb559062c23f>\u001b[0m in \u001b[0;36m<module>\u001b[0;34m\u001b[0m\n\u001b[0;32m----> 1\u001b[0;31m \u001b[0;34m{\u001b[0m\u001b[0;34m[\u001b[0m\u001b[0;36m789\u001b[0m\u001b[0;34m,\u001b[0m\u001b[0;36m887\u001b[0m\u001b[0;34m,\u001b[0m\u001b[0;36m9\u001b[0m\u001b[0;34m]\u001b[0m\u001b[0;34m,\u001b[0m \u001b[0;36m8\u001b[0m\u001b[0;34m,\u001b[0m\u001b[0;36m9\u001b[0m\u001b[0;34m,\u001b[0m\u001b[0;36m9\u001b[0m\u001b[0;34m,\u001b[0m\u001b[0;36m9\u001b[0m\u001b[0;34m}\u001b[0m\u001b[0;34m\u001b[0m\u001b[0;34m\u001b[0m\u001b[0m\n\u001b[0m",
      "\u001b[0;31mTypeError\u001b[0m: unhashable type: 'list'"
     ]
    }
   ],
   "source": [
    "{[789,887,9], 8,9,9,9}"
   ]
  },
  {
   "cell_type": "code",
   "execution_count": null,
   "id": "291b18ee",
   "metadata": {},
   "outputs": [],
   "source": []
  }
 ],
 "metadata": {
  "kernelspec": {
   "display_name": "Python 3",
   "language": "python",
   "name": "python3"
  },
  "language_info": {
   "codemirror_mode": {
    "name": "ipython",
    "version": 3
   },
   "file_extension": ".py",
   "mimetype": "text/x-python",
   "name": "python",
   "nbconvert_exporter": "python",
   "pygments_lexer": "ipython3",
   "version": "3.6.13"
  }
 },
 "nbformat": 4,
 "nbformat_minor": 5
}
